{
 "cells": [
  {
   "cell_type": "code",
   "execution_count": 3,
   "metadata": {},
   "outputs": [],
   "source": [
    "class Robot:\n",
    "    \"\"\"Classe simulant un robot\"\"\"\n",
    "    def __init__(self,x=0,y=0,direction=None) -> None:\n",
    "        \"\"\"Definition des coordonées + de la direction\"\"\"\n",
    "        self.x=x\n",
    "        self.y=y\n",
    "        self.direction=direction\n",
    "    def avancer(self,direction:str):\n",
    "        \"\"\"Methode petmettant d'avancer dans une direction donnée\"\"\"\n",
    "        if direction=='nord' or direction=='Nord':\n",
    "            self.y+=1\n",
    "        if direction=='sud' or direction=='Sud':\n",
    "            self.y-=1\n",
    "        if direction=='est' or direction=='Est':\n",
    "            self.x+=1\n",
    "        if direction=='ouest' or direction=='Ouest':\n",
    "            self.x-=1\n",
    "        return self.x,self.y\n",
    "\n",
    "        \n",
    "\n",
    "    "
   ]
  },
  {
   "cell_type": "code",
   "execution_count": 9,
   "metadata": {},
   "outputs": [
    {
     "data": {
      "text/plain": [
       "(2, 3)"
      ]
     },
     "execution_count": 9,
     "metadata": {},
     "output_type": "execute_result"
    }
   ],
   "source": [
    "robot1=Robot(3,3)\n",
    "robot1.avancer('ouest')"
   ]
  }
 ],
 "metadata": {
  "interpreter": {
   "hash": "7a7a32c105c4120ad526eb64bf655e6765df553b7e2a33bc61331bb9a3524fd3"
  },
  "kernelspec": {
   "display_name": "Python 3.9.6 64-bit",
   "name": "python3"
  },
  "language_info": {
   "codemirror_mode": {
    "name": "ipython",
    "version": 3
   },
   "file_extension": ".py",
   "mimetype": "text/x-python",
   "name": "python",
   "nbconvert_exporter": "python",
   "pygments_lexer": "ipython3",
   "version": "3.9.6"
  },
  "orig_nbformat": 4
 },
 "nbformat": 4,
 "nbformat_minor": 2
}

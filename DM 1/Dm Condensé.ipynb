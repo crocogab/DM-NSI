{
 "cells": [
  {
   "cell_type": "code",
   "execution_count": 1,
   "metadata": {},
   "outputs": [],
   "source": [
    "class Domino:\n",
    "    \"\"\"La classe Domino permet de représenter une pièce de domino\"\"\"\n",
    "    def __init__(self,valeurA:int,valeurB:int) -> None: \n",
    "        self.valeurA=valeurA\n",
    "        self.valeurB=valeurB\n",
    "    \n",
    "    def affichePoints(self):\n",
    "        \"\"\" Permet d'afficher la valeur des deux faces\"\"\"\n",
    "        print(f'La valeur de la face A est : {self.valeurA} \\nLa valeur de la face B est : {self.valeurB}')\n",
    "    def total(self)->int:\n",
    "        \"\"\" Permet de retourner la somme des deux faces\"\"\"\n",
    "        return self.valeurA + self.valeurB\n"
   ]
  },
  {
   "cell_type": "code",
   "execution_count": 2,
   "metadata": {},
   "outputs": [],
   "source": [
    "class CompteBancaire:\n",
    "    \"\"\"Gestion d'un compte en banque\"\"\"\n",
    "    def __init__(self,name,solde=0) -> None:\n",
    "        self.name=name\n",
    "        self.solde=solde\n",
    "    def depot(self,somme):\n",
    "        \"\"\"Fonction permettant le dépot sur le compte\"\"\"\n",
    "        self.solde+=somme\n",
    "        return self.solde\n",
    "    def retrait(self,somme):\n",
    "        \"\"\"Fonction permettant le retrait sur le compte\"\"\"\n",
    "        self.solde-=somme\n",
    "        if self.solde<0:\n",
    "            print('Payement refusé')\n",
    "            self.solde+=somme\n",
    "    def affiche(self):\n",
    "        \"\"\"Affiche la solde présente sur le compte\"\"\"\n",
    "        print(f\"Le compte de {self.name} possède {self.solde} $\")\n",
    "    "
   ]
  },
  {
   "cell_type": "code",
   "execution_count": 3,
   "metadata": {},
   "outputs": [],
   "source": [
    "class Rectangle:\n",
    "    \"\"\"Classe rectangle\"\"\"\n",
    "    def __init__(self,longueur=0.0,largeur=0.0) -> None:\n",
    "        \"\"\"Inintialisation d'un object avec comme valeurs par défaut 0\"\"\"\n",
    "        self.longueur=longueur\n",
    "        self.largeur=largeur\n",
    "    def perimetre(self):\n",
    "        \"\"\"Methode perimetre retournant le périmètre du rectangle\"\"\"\n",
    "        return 2*(self.longueur+self.largeur)\n",
    "    def surface(self):\n",
    "        \"\"\"Methode surface qui retourne la surface du rectangle\"\"\"\n",
    "        return self.largeur*self.largeur"
   ]
  },
  {
   "cell_type": "code",
   "execution_count": 4,
   "metadata": {},
   "outputs": [],
   "source": [
    "import random\n",
    "\n",
    "class Personnage:\n",
    "    \"\"\"Classe personnage\"\"\"\n",
    "    \n",
    "    def __init__(self,name,pv) -> None:\n",
    "        \"\"\"Initialisation de la classe personnage\"\"\"\n",
    "        self.name=name\n",
    "        self.pv=pv\n",
    "    def combat(self,other):\n",
    "        \"\"\"methode combat permet combat entre deux personnages\"\"\"\n",
    "        degat=random.randrange(1,min(other.pv,self.pv)) #degat max = pv minimaux - 1 (pour ne pas 1 shot) \n",
    "        other.pv-=degat\n",
    "        \n",
    "        return other.pv \n",
    "        "
   ]
  },
  {
   "cell_type": "code",
   "execution_count": 5,
   "metadata": {},
   "outputs": [],
   "source": [
    "class Robot:\n",
    "    \"\"\"Classe simulant un robot\"\"\"\n",
    "    def __init__(self,x=0,y=0,direction=None) -> None:\n",
    "        \"\"\"Definition des coordonées + de la direction\"\"\"\n",
    "        self.x=x\n",
    "        self.y=y\n",
    "        self.direction=direction\n",
    "    def avancer(self,direction:str):\n",
    "        \"\"\"Methode petmettant d'avancer dans une direction donnée\"\"\"\n",
    "        if direction.lower()=='nord' :\n",
    "            self.y+=1\n",
    "        if direction.lower()=='sud' :\n",
    "            self.y-=1\n",
    "        if direction.lower()=='est' :\n",
    "            self.x+=1\n",
    "        if direction.lower()=='ouest': \n",
    "            self.x-=1\n",
    "        "
   ]
  }
 ],
 "metadata": {
  "interpreter": {
   "hash": "7a7a32c105c4120ad526eb64bf655e6765df553b7e2a33bc61331bb9a3524fd3"
  },
  "kernelspec": {
   "display_name": "Python 3.9.6 64-bit",
   "name": "python3"
  },
  "language_info": {
   "codemirror_mode": {
    "name": "ipython",
    "version": 3
   },
   "file_extension": ".py",
   "mimetype": "text/x-python",
   "name": "python",
   "nbconvert_exporter": "python",
   "pygments_lexer": "ipython3",
   "version": "3.9.6"
  },
  "orig_nbformat": 4
 },
 "nbformat": 4,
 "nbformat_minor": 2
}

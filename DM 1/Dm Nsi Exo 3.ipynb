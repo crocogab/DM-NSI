{
 "cells": [
  {
   "cell_type": "code",
   "execution_count": 8,
   "metadata": {},
   "outputs": [],
   "source": [
    "class Rectangle:\n",
    "    \"\"\"Classe rectangle\"\"\"\n",
    "    def __init__(self,longueur=0.0,largeur=0.0) -> None:\n",
    "        \"\"\"Inintialisation d'un object avec comme valeurs par défaut 0\"\"\"\n",
    "        self.longueur=longueur\n",
    "        self.largeur=largeur\n",
    "    def perimetre(self):\n",
    "        \"\"\"Methode perimetre retournant le périmètre du rectangle\"\"\"\n",
    "        return 2*(self.longueur+self.largeur)\n",
    "    def surface(self):\n",
    "        \"\"\"Methode surface qui retourne la surface du rectangle\"\"\"\n",
    "        return self.largeur*self.largeur\n",
    "        \n"
   ]
  },
  {
   "cell_type": "code",
   "execution_count": 7,
   "metadata": {},
   "outputs": [
    {
     "data": {
      "text/plain": [
       "50"
      ]
     },
     "execution_count": 7,
     "metadata": {},
     "output_type": "execute_result"
    }
   ],
   "source": [
    "rectangle1=Rectangle(10,5)\n",
    "rectangle1.surface()"
   ]
  }
 ],
 "metadata": {
  "interpreter": {
   "hash": "7a7a32c105c4120ad526eb64bf655e6765df553b7e2a33bc61331bb9a3524fd3"
  },
  "kernelspec": {
   "display_name": "Python 3.9.6 64-bit",
   "name": "python3"
  },
  "language_info": {
   "codemirror_mode": {
    "name": "ipython",
    "version": 3
   },
   "file_extension": ".py",
   "mimetype": "text/x-python",
   "name": "python",
   "nbconvert_exporter": "python",
   "pygments_lexer": "ipython3",
   "version": "3.9.6"
  },
  "orig_nbformat": 4
 },
 "nbformat": 4,
 "nbformat_minor": 2
}

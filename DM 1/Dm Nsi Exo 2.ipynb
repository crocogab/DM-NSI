{
 "cells": [
  {
   "cell_type": "code",
   "execution_count": 17,
   "metadata": {},
   "outputs": [],
   "source": [
    "class CompteBancaire:\n",
    "    \"\"\"Gestion d'un compte en banque\"\"\"\n",
    "    def __init__(self,name,solde=0) -> None:\n",
    "        self.name=name\n",
    "        self.solde=solde\n",
    "    def depot(self,somme):\n",
    "        \"\"\"Fonction permettant le dépot sur le compte\"\"\"\n",
    "        self.solde+=somme\n",
    "        return self.solde\n",
    "    def retrait(self,somme):\n",
    "        \"\"\"Fonction permettant le retrait sur le compte\"\"\"\n",
    "        self.solde-=somme\n",
    "        if self.solde<0:\n",
    "            print('Payement refusé')\n",
    "            self.solde+=somme\n",
    "    def affiche(self):\n",
    "        \"\"\"Affiche la solde présente sur le compte\"\"\"\n",
    "        print(f\"Le compte de {self.name} possède {self.solde} $\")\n",
    "    \n"
   ]
  },
  {
   "cell_type": "code",
   "execution_count": 18,
   "metadata": {},
   "outputs": [
    {
     "name": "stdout",
     "output_type": "stream",
     "text": [
      "Le compte de gab possède 10 $\n",
      "Le compte de gab possède 15 $\n",
      "Payement refusé\n",
      "Le compte de gab possède 15 $\n"
     ]
    }
   ],
   "source": [
    "compte1=CompteBancaire('gab',10)\n",
    "compte1.affiche()\n",
    "compte1.depot(5)\n",
    "compte1.affiche()\n",
    "compte1.retrait(100)\n",
    "compte1.affiche()"
   ]
  }
 ],
 "metadata": {
  "interpreter": {
   "hash": "7a7a32c105c4120ad526eb64bf655e6765df553b7e2a33bc61331bb9a3524fd3"
  },
  "kernelspec": {
   "display_name": "Python 3.9.6 64-bit",
   "name": "python3"
  },
  "language_info": {
   "codemirror_mode": {
    "name": "ipython",
    "version": 3
   },
   "file_extension": ".py",
   "mimetype": "text/x-python",
   "name": "python",
   "nbconvert_exporter": "python",
   "pygments_lexer": "ipython3",
   "version": "3.9.6"
  },
  "orig_nbformat": 4
 },
 "nbformat": 4,
 "nbformat_minor": 2
}

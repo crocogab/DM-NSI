{
 "cells": [
  {
   "cell_type": "code",
   "execution_count": 46,
   "metadata": {},
   "outputs": [],
   "source": [
    "import random\n",
    "\n",
    "class Personnage:\n",
    "    \"\"\"Classe personnage\"\"\"\n",
    "    \n",
    "    def __init__(self,name,pv) -> None:\n",
    "        \"\"\"Initialisation de la classe personnage\"\"\"\n",
    "        self.name=name\n",
    "        self.pv=pv\n",
    "    def combat(self,other):\n",
    "        \"\"\"methode combat permet combat entre deux personnages\"\"\"\n",
    "        perso_touche=random.randrange(2) #choisi quel personnage va subir les degats\n",
    "        degat=random.randrange(1,min(other.pv,self.pv)) #degat max = pv minimaux - 1 (pour ne pas 1 shot) \n",
    "        if perso_touche==1:\n",
    "            other.pv-=degat\n",
    "        else:\n",
    "            self.pv-=degat\n",
    "        return self.pv,other.pv \n",
    "        "
   ]
  },
  {
   "cell_type": "code",
   "execution_count": 88,
   "metadata": {},
   "outputs": [
    {
     "data": {
      "text/plain": [
       "(12, 50)"
      ]
     },
     "execution_count": 88,
     "metadata": {},
     "output_type": "execute_result"
    }
   ],
   "source": [
    "zelda=Personnage('zelda',50)\n",
    "gollum=Personnage('gollum',50)\n",
    "zelda.combat(gollum)"
   ]
  }
 ],
 "metadata": {
  "interpreter": {
   "hash": "7a7a32c105c4120ad526eb64bf655e6765df553b7e2a33bc61331bb9a3524fd3"
  },
  "kernelspec": {
   "display_name": "Python 3.9.6 64-bit",
   "name": "python3"
  },
  "language_info": {
   "codemirror_mode": {
    "name": "ipython",
    "version": 3
   },
   "file_extension": ".py",
   "mimetype": "text/x-python",
   "name": "python",
   "nbconvert_exporter": "python",
   "pygments_lexer": "ipython3",
   "version": "3.9.6"
  },
  "orig_nbformat": 4
 },
 "nbformat": 4,
 "nbformat_minor": 2
}

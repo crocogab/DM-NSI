{
 "cells": [
  {
   "cell_type": "code",
   "execution_count": 29,
   "metadata": {},
   "outputs": [],
   "source": [
    "class Domino:\n",
    "    \"\"\"La classe Domino permet de représenter une pièce de domino\"\"\"\n",
    "    def __init__(self,valeurA:int,valeurB:int) -> None: \n",
    "        self.valeurA=valeurA\n",
    "        self.valeurB=valeurB\n",
    "    \n",
    "    def affichePoints(self):\n",
    "        \"\"\" Permet d'afficher la valeur des deux faces\"\"\"\n",
    "        print(f'La valeur de la face A est : {self.valeurA} \\nLa valeur de la face B est : {self.valeurB}')\n",
    "    def total(self)->int:\n",
    "        \"\"\" Permet de retourner la somme des deux faces\"\"\"\n",
    "        return self.valeurA + self.valeurB\n",
    "\n"
   ]
  },
  {
   "cell_type": "code",
   "execution_count": 30,
   "metadata": {},
   "outputs": [],
   "source": [
    "domino1=Domino(6,3)"
   ]
  },
  {
   "cell_type": "code",
   "execution_count": 32,
   "metadata": {},
   "outputs": [
    {
     "name": "stdout",
     "output_type": "stream",
     "text": [
      "La valeur de la face A est : 6 \n",
      "La valeur de la face B est : 3\n"
     ]
    },
    {
     "data": {
      "text/plain": [
       "9"
      ]
     },
     "execution_count": 32,
     "metadata": {},
     "output_type": "execute_result"
    }
   ],
   "source": [
    "domino1.affichePoints()\n",
    "domino1.total()"
   ]
  }
 ],
 "metadata": {
  "interpreter": {
   "hash": "7a7a32c105c4120ad526eb64bf655e6765df553b7e2a33bc61331bb9a3524fd3"
  },
  "kernelspec": {
   "display_name": "Python 3.9.6 64-bit",
   "name": "python3"
  },
  "language_info": {
   "codemirror_mode": {
    "name": "ipython",
    "version": 3
   },
   "file_extension": ".py",
   "mimetype": "text/x-python",
   "name": "python",
   "nbconvert_exporter": "python",
   "pygments_lexer": "ipython3",
   "version": "3.9.6"
  },
  "orig_nbformat": 4
 },
 "nbformat": 4,
 "nbformat_minor": 2
}
